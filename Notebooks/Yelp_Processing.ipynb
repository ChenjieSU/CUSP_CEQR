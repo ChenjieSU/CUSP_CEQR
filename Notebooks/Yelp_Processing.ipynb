{
 "cells": [
  {
   "cell_type": "code",
   "execution_count": 7,
   "metadata": {},
   "outputs": [
    {
     "ename": "ModuleNotFoundError",
     "evalue": "No module named 'dask'",
     "output_type": "error",
     "traceback": [
      "\u001b[0;31m---------------------------------------------------------------------------\u001b[0m",
      "\u001b[0;31mModuleNotFoundError\u001b[0m                       Traceback (most recent call last)",
      "\u001b[0;32m<ipython-input-7-a4fee94a7f93>\u001b[0m in \u001b[0;36m<module>\u001b[0;34m\u001b[0m\n\u001b[1;32m      1\u001b[0m \u001b[0;32mimport\u001b[0m \u001b[0mpandas\u001b[0m \u001b[0;32mas\u001b[0m \u001b[0mpd\u001b[0m\u001b[0;34m\u001b[0m\u001b[0;34m\u001b[0m\u001b[0m\n\u001b[0;32m----> 2\u001b[0;31m \u001b[0;32mimport\u001b[0m \u001b[0mdask\u001b[0m\u001b[0;34m.\u001b[0m\u001b[0mdataframe\u001b[0m \u001b[0;32mas\u001b[0m \u001b[0mdd\u001b[0m\u001b[0;34m\u001b[0m\u001b[0;34m\u001b[0m\u001b[0m\n\u001b[0m",
      "\u001b[0;31mModuleNotFoundError\u001b[0m: No module named 'dask'"
     ]
    }
   ],
   "source": [
    "import pandas as pd\n",
    "import dask.dataframe as dd"
   ]
  },
  {
   "cell_type": "code",
   "execution_count": null,
   "metadata": {},
   "outputs": [],
   "source": [
    "review = pd.read_json('/Users/akashyadav/Desktop/nyuclass/CEQRN/Data/yelp_dataset/yelp_academic_dataset_review.json')"
   ]
  },
  {
   "cell_type": "code",
   "execution_count": 7,
   "metadata": {},
   "outputs": [
    {
     "name": "stdout",
     "output_type": "stream",
     "text": [
      "Requirement already satisfied: dask[complete] in /Users/akashyadav/Desktop/nyuclass/ADSUncorrupted/lib/python3.8/site-packages (2.20.0)\n",
      "Requirement already satisfied: pyyaml in /Users/akashyadav/Desktop/nyuclass/ADSUncorrupted/lib/python3.8/site-packages (from dask[complete]) (5.3)\n",
      "Requirement already satisfied: fsspec>=0.6.0; extra == \"complete\" in /Users/akashyadav/Desktop/nyuclass/ADSUncorrupted/lib/python3.8/site-packages (from dask[complete]) (0.7.4)\n",
      "Requirement already satisfied: numpy>=1.13.0; extra == \"complete\" in /Users/akashyadav/Desktop/nyuclass/ADSUncorrupted/lib/python3.8/site-packages (from dask[complete]) (1.18.2)\n",
      "Requirement already satisfied: cloudpickle>=0.2.2; extra == \"complete\" in /Users/akashyadav/Desktop/nyuclass/ADSUncorrupted/lib/python3.8/site-packages (from dask[complete]) (1.5.0)\n",
      "Requirement already satisfied: distributed>=2.0; extra == \"complete\" in /Users/akashyadav/Desktop/nyuclass/ADSUncorrupted/lib/python3.8/site-packages (from dask[complete]) (2.20.0)\n",
      "Requirement already satisfied: bokeh>=1.0.0; extra == \"complete\" in /Users/akashyadav/Desktop/nyuclass/ADSUncorrupted/lib/python3.8/site-packages (from dask[complete]) (2.1.1)\n",
      "Requirement already satisfied: pandas>=0.23.0; extra == \"complete\" in /Users/akashyadav/Desktop/nyuclass/ADSUncorrupted/lib/python3.8/site-packages (from dask[complete]) (1.0.3)\n",
      "Requirement already satisfied: partd>=0.3.10; extra == \"complete\" in /Users/akashyadav/Desktop/nyuclass/ADSUncorrupted/lib/python3.8/site-packages (from dask[complete]) (1.1.0)\n",
      "Requirement already satisfied: toolz>=0.8.2; extra == \"complete\" in /Users/akashyadav/Desktop/nyuclass/ADSUncorrupted/lib/python3.8/site-packages (from dask[complete]) (0.10.0)\n",
      "Requirement already satisfied: zict>=0.1.3 in /Users/akashyadav/Desktop/nyuclass/ADSUncorrupted/lib/python3.8/site-packages (from distributed>=2.0; extra == \"complete\"->dask[complete]) (2.0.0)\n",
      "Requirement already satisfied: click>=6.6 in /Users/akashyadav/Desktop/nyuclass/ADSUncorrupted/lib/python3.8/site-packages (from distributed>=2.0; extra == \"complete\"->dask[complete]) (7.1.1)\n",
      "Requirement already satisfied: psutil>=5.0 in /Users/akashyadav/Desktop/nyuclass/ADSUncorrupted/lib/python3.8/site-packages (from distributed>=2.0; extra == \"complete\"->dask[complete]) (5.6.7)\n",
      "Requirement already satisfied: tornado>=6.0.3; python_version >= \"3.8\" in /Users/akashyadav/Desktop/nyuclass/ADSUncorrupted/lib/python3.8/site-packages (from distributed>=2.0; extra == \"complete\"->dask[complete]) (6.0.4)\n",
      "Requirement already satisfied: setuptools in /Users/akashyadav/Desktop/nyuclass/ADSUncorrupted/lib/python3.8/site-packages (from distributed>=2.0; extra == \"complete\"->dask[complete]) (41.2.0)\n",
      "Requirement already satisfied: msgpack>=0.6.0 in /Users/akashyadav/Desktop/nyuclass/ADSUncorrupted/lib/python3.8/site-packages (from distributed>=2.0; extra == \"complete\"->dask[complete]) (1.0.0)\n",
      "Requirement already satisfied: sortedcontainers!=2.0.0,!=2.0.1 in /Users/akashyadav/Desktop/nyuclass/ADSUncorrupted/lib/python3.8/site-packages (from distributed>=2.0; extra == \"complete\"->dask[complete]) (2.2.2)\n",
      "Requirement already satisfied: tblib>=1.6.0 in /Users/akashyadav/Desktop/nyuclass/ADSUncorrupted/lib/python3.8/site-packages (from distributed>=2.0; extra == \"complete\"->dask[complete]) (1.6.0)\n",
      "Requirement already satisfied: python-dateutil>=2.1 in /Users/akashyadav/Desktop/nyuclass/ADSUncorrupted/lib/python3.8/site-packages (from bokeh>=1.0.0; extra == \"complete\"->dask[complete]) (2.8.0)\n",
      "Requirement already satisfied: Jinja2>=2.7 in /Users/akashyadav/Desktop/nyuclass/ADSUncorrupted/lib/python3.8/site-packages (from bokeh>=1.0.0; extra == \"complete\"->dask[complete]) (2.11.1)\n",
      "Requirement already satisfied: pillow>=4.0 in /Users/akashyadav/Desktop/nyuclass/ADSUncorrupted/lib/python3.8/site-packages (from bokeh>=1.0.0; extra == \"complete\"->dask[complete]) (7.2.0)\n",
      "Requirement already satisfied: packaging>=16.8 in /Users/akashyadav/Desktop/nyuclass/ADSUncorrupted/lib/python3.8/site-packages (from bokeh>=1.0.0; extra == \"complete\"->dask[complete]) (20.3)\n",
      "Requirement already satisfied: typing_extensions>=3.7.4 in /Users/akashyadav/Desktop/nyuclass/ADSUncorrupted/lib/python3.8/site-packages (from bokeh>=1.0.0; extra == \"complete\"->dask[complete]) (3.7.4.2)\n",
      "Requirement already satisfied: pytz>=2017.2 in /Users/akashyadav/Desktop/nyuclass/ADSUncorrupted/lib/python3.8/site-packages (from pandas>=0.23.0; extra == \"complete\"->dask[complete]) (2019.3)\n",
      "Requirement already satisfied: locket in /Users/akashyadav/Desktop/nyuclass/ADSUncorrupted/lib/python3.8/site-packages (from partd>=0.3.10; extra == \"complete\"->dask[complete]) (0.2.0)\n",
      "Requirement already satisfied: heapdict in /Users/akashyadav/Desktop/nyuclass/ADSUncorrupted/lib/python3.8/site-packages (from zict>=0.1.3->distributed>=2.0; extra == \"complete\"->dask[complete]) (1.0.1)\n",
      "Requirement already satisfied: six>=1.5 in /Users/akashyadav/Desktop/nyuclass/ADSUncorrupted/lib/python3.8/site-packages (from python-dateutil>=2.1->bokeh>=1.0.0; extra == \"complete\"->dask[complete]) (1.14.0)\n",
      "Requirement already satisfied: MarkupSafe>=0.23 in /Users/akashyadav/Desktop/nyuclass/ADSUncorrupted/lib/python3.8/site-packages (from Jinja2>=2.7->bokeh>=1.0.0; extra == \"complete\"->dask[complete]) (1.1.1)\n",
      "Requirement already satisfied: pyparsing>=2.0.2 in /Users/akashyadav/Desktop/nyuclass/ADSUncorrupted/lib/python3.8/site-packages (from packaging>=16.8->bokeh>=1.0.0; extra == \"complete\"->dask[complete]) (2.4.6)\n",
      "\u001b[33mWARNING: You are using pip version 19.2.3, however version 20.1.1 is available.\n",
      "You should consider upgrading via the 'pip install --upgrade pip' command.\u001b[0m\n"
     ]
    }
   ],
   "source": [
    "!pip install \"dask[complete]\""
   ]
  },
  {
   "cell_type": "code",
   "execution_count": 6,
   "metadata": {},
   "outputs": [
    {
     "name": "stdout",
     "output_type": "stream",
     "text": [
      "Requirement already satisfied: dask[dataframe] in /Users/akashyadav/Desktop/nyuclass/python3.8based/lib/python3.8/site-packages (2.20.0)\n",
      "Requirement already satisfied: pyyaml in /Users/akashyadav/Desktop/nyuclass/python3.8based/lib/python3.8/site-packages (from dask[dataframe]) (5.3.1)\n",
      "Requirement already satisfied: numpy>=1.13.0; extra == \"dataframe\" in /Users/akashyadav/Desktop/nyuclass/python3.8based/lib/python3.8/site-packages (from dask[dataframe]) (1.18.1)\n",
      "Requirement already satisfied: toolz>=0.8.2; extra == \"dataframe\" in /Users/akashyadav/Desktop/nyuclass/python3.8based/lib/python3.8/site-packages (from dask[dataframe]) (0.10.0)\n",
      "Requirement already satisfied: fsspec>=0.6.0; extra == \"dataframe\" in /Users/akashyadav/Desktop/nyuclass/python3.8based/lib/python3.8/site-packages (from dask[dataframe]) (0.7.4)\n",
      "Requirement already satisfied: pandas>=0.23.0; extra == \"dataframe\" in /Users/akashyadav/Desktop/nyuclass/python3.8based/lib/python3.8/site-packages (from dask[dataframe]) (1.0.1)\n",
      "Requirement already satisfied: partd>=0.3.10; extra == \"dataframe\" in /Users/akashyadav/Desktop/nyuclass/python3.8based/lib/python3.8/site-packages (from dask[dataframe]) (1.1.0)\n",
      "Requirement already satisfied: python-dateutil>=2.6.1 in /Users/akashyadav/Desktop/nyuclass/python3.8based/lib/python3.8/site-packages (from pandas>=0.23.0; extra == \"dataframe\"->dask[dataframe]) (2.8.0)\n",
      "Requirement already satisfied: pytz>=2017.2 in /Users/akashyadav/Desktop/nyuclass/python3.8based/lib/python3.8/site-packages (from pandas>=0.23.0; extra == \"dataframe\"->dask[dataframe]) (2019.3)\n",
      "Requirement already satisfied: locket in /Users/akashyadav/Desktop/nyuclass/python3.8based/lib/python3.8/site-packages (from partd>=0.3.10; extra == \"dataframe\"->dask[dataframe]) (0.2.0)\n",
      "Requirement already satisfied: six>=1.5 in /Users/akashyadav/Desktop/nyuclass/python3.8based/lib/python3.8/site-packages (from python-dateutil>=2.6.1->pandas>=0.23.0; extra == \"dataframe\"->dask[dataframe]) (1.14.0)\n",
      "\u001b[33mWARNING: You are using pip version 19.2.3, however version 20.1.1 is available.\n",
      "You should consider upgrading via the 'pip install --upgrade pip' command.\u001b[0m\n"
     ]
    }
   ],
   "source": [
    "!pip install 'dask[dataframe]'"
   ]
  },
  {
   "cell_type": "code",
   "execution_count": 9,
   "metadata": {},
   "outputs": [
    {
     "ename": "NameError",
     "evalue": "name 'dask' is not defined",
     "output_type": "error",
     "traceback": [
      "\u001b[0;31m---------------------------------------------------------------------------\u001b[0m",
      "\u001b[0;31mNameError\u001b[0m                                 Traceback (most recent call last)",
      "\u001b[0;32m<ipython-input-9-fd64adebad7b>\u001b[0m in \u001b[0;36m<module>\u001b[0;34m\u001b[0m\n\u001b[1;32m      1\u001b[0m \u001b[0;32mimport\u001b[0m \u001b[0msys\u001b[0m\u001b[0;34m,\u001b[0m \u001b[0mos\u001b[0m\u001b[0;34m\u001b[0m\u001b[0;34m\u001b[0m\u001b[0m\n\u001b[0;32m----> 2\u001b[0;31m \u001b[0mpath\u001b[0m \u001b[0;34m=\u001b[0m \u001b[0mos\u001b[0m\u001b[0;34m.\u001b[0m\u001b[0mpath\u001b[0m\u001b[0;34m.\u001b[0m\u001b[0mdirname\u001b[0m\u001b[0;34m(\u001b[0m\u001b[0mdask\u001b[0m\u001b[0;34m.\u001b[0m\u001b[0m__file__\u001b[0m\u001b[0;34m)\u001b[0m\u001b[0;34m\u001b[0m\u001b[0;34m\u001b[0m\u001b[0m\n\u001b[0m",
      "\u001b[0;31mNameError\u001b[0m: name 'dask' is not defined"
     ]
    }
   ],
   "source": [
    "import sys, os\n",
    "path = os.path.dirname(dask.__file__)"
   ]
  },
  {
   "cell_type": "code",
   "execution_count": null,
   "metadata": {},
   "outputs": [],
   "source": []
  }
 ],
 "metadata": {
  "kernelspec": {
   "display_name": "Python 3",
   "language": "python",
   "name": "python3"
  }
 },
 "nbformat": 4,
 "nbformat_minor": 2
}
